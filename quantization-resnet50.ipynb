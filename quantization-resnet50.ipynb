{
 "cells": [
  {
   "cell_type": "markdown",
   "metadata": {
    "id": "e4gFXLY3idmq"
   },
   "source": [
    "# Model Architecture\n",
    "\n"
   ]
  },
  {
   "cell_type": "markdown",
   "metadata": {
    "id": "OlI5xhb2eqqY"
   },
   "source": [
    "Since resnet50 network implementation of pytorch is not quatizable, we need to modify the network, so that we can quantize it. I use the resnet50 network defination from ```https://github.com/pytorch/vision/blob/master/torchvision/models/resnet.py```\n",
    "\n",
    "and modify it as follows.\n",
    "\n",
    "  I first add `QuantStub` and `DeQuantStub` to the beginning and end of the network.\n",
    "\n",
    "  I replace addition with  `nn.quantized.FloatFunctional`.\n",
    "\n",
    "\n"
   ]
  },
  {
   "cell_type": "code",
   "execution_count": 38,
   "metadata": {
    "id": "tIKk2hFqr5f9"
   },
   "outputs": [],
   "source": [
    "import torch\n",
    "from torch import Tensor\n",
    "import torch.nn as nn\n",
    "from typing import Type, Any, Callable, Union, List, Optional\n",
    "from torch.quantization import QuantStub, DeQuantStub\n",
    "\n",
    "\n",
    "try:\n",
    "    from torch.hub import load_state_dict_from_url\n",
    "except ImportError:\n",
    "    from torch.utils.model_zoo import load_url as load_state_dict_from_url\n",
    "\n",
    "\n",
    "model_urls = {\n",
    "    'resnet50': 'https://download.pytorch.org/models/resnet50-19c8e357.pth',\n",
    "}\n",
    "\n",
    "\n",
    "def conv3x3(in_planes: int, out_planes: int, stride: int = 1, groups: int = 1, dilation: int = 1) -> nn.Conv2d:\n",
    "    \"\"\"3x3 convolution with padding\"\"\"\n",
    "    return nn.Conv2d(in_planes, out_planes, kernel_size=3, stride=stride,\n",
    "                     padding=dilation, groups=groups, bias=False, dilation=dilation)\n",
    "\n",
    "\n",
    "def conv1x1(in_planes: int, out_planes: int, stride: int = 1) -> nn.Conv2d:\n",
    "    \"\"\"1x1 convolution\"\"\"\n",
    "    return nn.Conv2d(in_planes, out_planes, kernel_size=1, stride=stride, bias=False)\n",
    "\n",
    "\n",
    "class BasicBlock(nn.Module):\n",
    "    expansion: int = 1\n",
    "\n",
    "    def __init__(\n",
    "        self,\n",
    "        inplanes: int,\n",
    "        planes: int,\n",
    "        stride: int = 1,\n",
    "        downsample: Optional[nn.Module] = None,\n",
    "        groups: int = 1,\n",
    "        base_width: int = 64,\n",
    "        dilation: int = 1,\n",
    "        norm_layer: Optional[Callable[..., nn.Module]] = None\n",
    "    ) -> None:\n",
    "        super(BasicBlock, self).__init__()\n",
    "        if norm_layer is None:\n",
    "            norm_layer = nn.BatchNorm2d\n",
    "        if groups != 1 or base_width != 64:\n",
    "            raise ValueError('BasicBlock only supports groups=1 and base_width=64')\n",
    "        if dilation > 1:\n",
    "            raise NotImplementedError(\"Dilation > 1 not supported in BasicBlock\")\n",
    "        # Both self.conv1 and self.downsample layers downsample the input when stride != 1\n",
    "        self.conv1 = conv3x3(inplanes, planes, stride)\n",
    "        self.bn1 = norm_layer(planes)\n",
    "        self.relu = nn.ReLU(inplace=True)\n",
    "        self.conv2 = conv3x3(planes, planes)\n",
    "        self.bn2 = norm_layer(planes)\n",
    "        self.downsample = downsample\n",
    "        self.stride = stride\n",
    "        self.skip_add = nn.quantized.FloatFunctional()\n",
    "\n",
    "    def forward(self, x: Tensor) -> Tensor:\n",
    "        identity = x\n",
    "\n",
    "        out = self.conv1(x)\n",
    "        out = self.bn1(out)\n",
    "        out = self.relu(out)\n",
    "\n",
    "        out = self.conv2(out)\n",
    "        out = self.bn2(out)\n",
    "\n",
    "        if self.downsample is not None:\n",
    "            identity = self.downsample(x)\n",
    "\n",
    "        #out += identity\n",
    "        out = self.skip_add.add(out, identity)\n",
    "        out = self.relu(out)\n",
    "\n",
    "        return out\n",
    "\n",
    "\n",
    "class Bottleneck(nn.Module):\n",
    "    # Bottleneck in torchvision places the stride for downsampling at 3x3 convolution(self.conv2)\n",
    "    # while original implementation places the stride at the first 1x1 convolution(self.conv1)\n",
    "    # according to \"Deep residual learning for image recognition\"https://arxiv.org/abs/1512.03385.\n",
    "    # This variant is also known as ResNet V1.5 and improves accuracy according to\n",
    "    # https://ngc.nvidia.com/catalog/model-scripts/nvidia:resnet_50_v1_5_for_pytorch.\n",
    "\n",
    "    expansion: int = 4\n",
    "\n",
    "    def __init__(\n",
    "        self,\n",
    "        inplanes: int,\n",
    "        planes: int,\n",
    "        stride: int = 1,\n",
    "        downsample: Optional[nn.Module] = None,\n",
    "        groups: int = 1,\n",
    "        base_width: int = 64,\n",
    "        dilation: int = 1,\n",
    "        norm_layer: Optional[Callable[..., nn.Module]] = None\n",
    "    ) -> None:\n",
    "        super(Bottleneck, self).__init__()\n",
    "        if norm_layer is None:\n",
    "            norm_layer = nn.BatchNorm2d\n",
    "        width = int(planes * (base_width / 64.)) * groups\n",
    "        # Both self.conv2 and self.downsample layers downsample the input when stride != 1\n",
    "        self.conv1 = conv1x1(inplanes, width)\n",
    "        self.bn1 = norm_layer(width)\n",
    "        self.conv2 = conv3x3(width, width, stride, groups, dilation)\n",
    "        self.bn2 = norm_layer(width)\n",
    "        self.conv3 = conv1x1(width, planes * self.expansion)\n",
    "        self.bn3 = norm_layer(planes * self.expansion)\n",
    "        self.relu = nn.ReLU(inplace=True)\n",
    "        self.downsample = downsample\n",
    "        self.stride = stride\n",
    "        self.skip_add = nn.quantized.FloatFunctional()\n",
    "\n",
    "    def forward(self, x: Tensor) -> Tensor:\n",
    "        identity = x\n",
    "\n",
    "        out = self.conv1(x)\n",
    "        out = self.bn1(out)\n",
    "        out = self.relu(out)\n",
    "\n",
    "        out = self.conv2(out)\n",
    "        out = self.bn2(out)\n",
    "        out = self.relu(out)\n",
    "\n",
    "        out = self.conv3(out)\n",
    "        out = self.bn3(out)\n",
    "\n",
    "        if self.downsample is not None:\n",
    "            identity = self.downsample(x)\n",
    "\n",
    "        #out += identity \n",
    "        out = self.skip_add.add(out, identity)\n",
    "        out = self.relu(out)\n",
    "\n",
    "        return out\n",
    "\n",
    "\n",
    "class ResNet(nn.Module):\n",
    "\n",
    "    def __init__(\n",
    "        self,\n",
    "        block: Type[Union[BasicBlock, Bottleneck]],\n",
    "        layers: List[int],\n",
    "        num_classes: int = 1000,\n",
    "        zero_init_residual: bool = False,\n",
    "        groups: int = 1,\n",
    "        width_per_group: int = 64,\n",
    "        replace_stride_with_dilation: Optional[List[bool]] = None,\n",
    "        norm_layer: Optional[Callable[..., nn.Module]] = None\n",
    "    ) -> None:\n",
    "        super(ResNet, self).__init__()\n",
    "        if norm_layer is None:\n",
    "            norm_layer = nn.BatchNorm2d\n",
    "        self._norm_layer = norm_layer\n",
    "\n",
    "        self.inplanes = 64\n",
    "        self.dilation = 1\n",
    "        if replace_stride_with_dilation is None:\n",
    "            # each element in the tuple indicates if we should replace\n",
    "            # the 2x2 stride with a dilated convolution instead\n",
    "            replace_stride_with_dilation = [False, False, False]\n",
    "        if len(replace_stride_with_dilation) != 3:\n",
    "            raise ValueError(\"replace_stride_with_dilation should be None \"\n",
    "                             \"or a 3-element tuple, got {}\".format(replace_stride_with_dilation))\n",
    "        self.groups = groups\n",
    "        self.base_width = width_per_group\n",
    "        self.conv1 = nn.Conv2d(3, self.inplanes, kernel_size=7, stride=2, padding=3,\n",
    "                               bias=False)\n",
    "        self.bn1 = norm_layer(self.inplanes)\n",
    "        self.relu = nn.ReLU(inplace=True)\n",
    "        self.maxpool = nn.MaxPool2d(kernel_size=3, stride=2, padding=1)\n",
    "        self.layer1 = self._make_layer(block, 64, layers[0])\n",
    "        self.layer2 = self._make_layer(block, 128, layers[1], stride=2,\n",
    "                                       dilate=replace_stride_with_dilation[0])\n",
    "        self.layer3 = self._make_layer(block, 256, layers[2], stride=2,\n",
    "                                       dilate=replace_stride_with_dilation[1])\n",
    "        self.layer4 = self._make_layer(block, 512, layers[3], stride=2,\n",
    "                                       dilate=replace_stride_with_dilation[2])\n",
    "        self.avgpool = nn.AdaptiveAvgPool2d((1, 1))\n",
    "        self.fc = nn.Linear(512 * block.expansion, num_classes)\n",
    "\n",
    "        for m in self.modules():\n",
    "            if isinstance(m, nn.Conv2d):\n",
    "                nn.init.kaiming_normal_(m.weight, mode='fan_out', nonlinearity='relu')\n",
    "            elif isinstance(m, (nn.BatchNorm2d, nn.GroupNorm)):\n",
    "                nn.init.constant_(m.weight, 1)\n",
    "                nn.init.constant_(m.bias, 0)\n",
    "\n",
    "        self.quant = QuantStub()\n",
    "        self.dequant = DeQuantStub()\n",
    "        # Zero-initialize the last BN in each residual branch,\n",
    "        # so that the residual branch starts with zeros, and each residual block behaves like an identity.\n",
    "        # This improves the model by 0.2~0.3% according to https://arxiv.org/abs/1706.02677\n",
    "        if zero_init_residual:\n",
    "            for m in self.modules():\n",
    "                if isinstance(m, Bottleneck):\n",
    "                    nn.init.constant_(m.bn3.weight, 0)  # type: ignore[arg-type]\n",
    "                elif isinstance(m, BasicBlock):\n",
    "                    nn.init.constant_(m.bn2.weight, 0)  # type: ignore[arg-type]\n",
    "\n",
    "    def _make_layer(self, block: Type[Union[BasicBlock, Bottleneck]], planes: int, blocks: int,\n",
    "                    stride: int = 1, dilate: bool = False) -> nn.Sequential:\n",
    "        norm_layer = self._norm_layer\n",
    "        downsample = None\n",
    "        previous_dilation = self.dilation\n",
    "        if dilate:\n",
    "            self.dilation *= stride\n",
    "            stride = 1\n",
    "        if stride != 1 or self.inplanes != planes * block.expansion:\n",
    "            downsample = nn.Sequential(\n",
    "                conv1x1(self.inplanes, planes * block.expansion, stride),\n",
    "                norm_layer(planes * block.expansion),\n",
    "            )\n",
    "\n",
    "        layers = []\n",
    "        layers.append(block(self.inplanes, planes, stride, downsample, self.groups,\n",
    "                            self.base_width, previous_dilation, norm_layer))\n",
    "        self.inplanes = planes * block.expansion\n",
    "        for _ in range(1, blocks):\n",
    "            layers.append(block(self.inplanes, planes, groups=self.groups,\n",
    "                                base_width=self.base_width, dilation=self.dilation,\n",
    "                                norm_layer=norm_layer))\n",
    "\n",
    "        return nn.Sequential(*layers)\n",
    "\n",
    "    def _forward_impl(self, x: Tensor) -> Tensor:\n",
    "        # See note [TorchScript super()]\n",
    "        x = self.quant(x) # add quant\n",
    "        x = self.conv1(x)\n",
    "        x = self.bn1(x)\n",
    "        x = self.relu(x)\n",
    "        x = self.maxpool(x)\n",
    "\n",
    "        x = self.layer1(x)\n",
    "        x = self.layer2(x)\n",
    "        x = self.layer3(x)\n",
    "        x = self.layer4(x)\n",
    "\n",
    "        x = self.avgpool(x)\n",
    "        x = torch.flatten(x, 1)\n",
    "        x = self.fc(x)\n",
    "        x = self.dequant(x) # add dequant\n",
    "\n",
    "        return x\n",
    "\n",
    "    def forward(self, x: Tensor) -> Tensor:\n",
    "        return self._forward_impl(x)\n",
    "\n",
    "\n",
    "def _resnet(\n",
    "    arch: str,\n",
    "    block: Type[Union[BasicBlock, Bottleneck]],\n",
    "    layers: List[int],\n",
    "    pretrained: bool,\n",
    "    progress: bool,\n",
    "    **kwargs: Any\n",
    ") -> ResNet:\n",
    "    model = ResNet(block, layers, **kwargs)\n",
    "    if pretrained:\n",
    "        state_dict = load_state_dict_from_url(model_urls[arch],\n",
    "                                              progress=progress)\n",
    "        model.load_state_dict(state_dict)\n",
    "    return model\n",
    "\n",
    "\n",
    "def resnet50_quantizable(pretrained: bool = False, progress: bool = True, **kwargs: Any) -> ResNet:\n",
    "    r\"\"\"ResNet-50 model from\n",
    "    `\"Deep Residual Learning for Image Recognition\" <https://arxiv.org/pdf/1512.03385.pdf>`_.\n",
    "    Args:\n",
    "        pretrained (bool): If True, returns a model pre-trained on ImageNet\n",
    "        progress (bool): If True, displays a progress bar of the download to stderr\n",
    "    \"\"\"\n",
    "    return _resnet('resnet50', Bottleneck, [3, 4, 6, 3], pretrained, progress,\n",
    "                   **kwargs)"
   ]
  },
  {
   "cell_type": "markdown",
   "metadata": {
    "id": "FnojIktsi0Tj"
   },
   "source": [
    "# Baseline Model"
   ]
  },
  {
   "cell_type": "markdown",
   "metadata": {
    "id": "SiY5pL0AkfKP"
   },
   "source": [
    "Install required packages."
   ]
  },
  {
   "cell_type": "code",
   "execution_count": 39,
   "metadata": {
    "colab": {
     "base_uri": "https://localhost:8080/"
    },
    "id": "za4ZI1Sy234u",
    "outputId": "7a9fbe02-d5db-4773-c7f9-cc7af8dfedc8"
   },
   "outputs": [
    {
     "name": "stdout",
     "output_type": "stream",
     "text": [
      "Requirement already satisfied: pillow in /usr/local/lib/python3.6/dist-packages (7.0.0)\n"
     ]
    }
   ],
   "source": [
    "!pip install pillow"
   ]
  },
  {
   "cell_type": "markdown",
   "metadata": {
    "id": "owNglqA_iUwx"
   },
   "source": [
    "Now, lets load the pre-trained model as a baseline."
   ]
  },
  {
   "cell_type": "code",
   "execution_count": 40,
   "metadata": {
    "id": "wNGYZRjTvYZC"
   },
   "outputs": [],
   "source": [
    "# add a random seed so that our results would be reproducable\n",
    "torch.manual_seed(280012)\n",
    "\n",
    "# Load the model\n",
    "float_model = resnet50_quantizable(pretrained=True).to('cpu')\n"
   ]
  },
  {
   "cell_type": "markdown",
   "metadata": {
    "id": "2kISw62Ojw62"
   },
   "source": [
    "Download ImgegeNet dataset. We only download 1k of train dataset, and 1k of validation dataset. "
   ]
  },
  {
   "cell_type": "code",
   "execution_count": 41,
   "metadata": {
    "colab": {
     "base_uri": "https://localhost:8080/"
    },
    "id": "gehMBrhgrusS",
    "outputId": "13e2edd9-b381-4715-9a54-57db419340ac"
   },
   "outputs": [
    {
     "name": "stdout",
     "output_type": "stream",
     "text": [
      "--2021-01-25 05:23:51--  https://s3.amazonaws.com/pytorch-tutorial-assets/imagenet_1k.zip\n",
      "Resolving s3.amazonaws.com (s3.amazonaws.com)... 52.217.36.14\n",
      "Connecting to s3.amazonaws.com (s3.amazonaws.com)|52.217.36.14|:443... connected.\n",
      "HTTP request sent, awaiting response... 200 OK\n",
      "Length: 260772586 (249M) [application/zip]\n",
      "Saving to: ‘imagenet_1k.zip.3’\n",
      "\n",
      "imagenet_1k.zip.3   100%[===================>] 248.69M  92.2MB/s    in 2.7s    \n",
      "\n",
      "2021-01-25 05:23:53 (92.2 MB/s) - ‘imagenet_1k.zip.3’ saved [260772586/260772586]\n",
      "\n",
      "Archive:  imagenet_1k.zip\n",
      "replace imagenet_1k/synset_words.txt? [y]es, [n]o, [A]ll, [N]one, [r]ename: N\n"
     ]
    }
   ],
   "source": [
    "!wget 'https://s3.amazonaws.com/pytorch-tutorial-assets/imagenet_1k.zip'\n",
    "!unzip 'imagenet_1k.zip'"
   ]
  },
  {
   "cell_type": "markdown",
   "metadata": {
    "id": "uUn_17EbaptB"
   },
   "source": [
    "Let's load the data that we just downloaded."
   ]
  },
  {
   "cell_type": "code",
   "execution_count": 42,
   "metadata": {
    "id": "kcM3l6jRGv8X"
   },
   "outputs": [],
   "source": [
    "import os\n",
    "from PIL import Image\n",
    "import csv\n",
    "\n",
    "def load_labels(path):\n",
    "  img2label = {}\n",
    "  with open(path) as csv_file:\n",
    "      csv_reader = csv.reader(csv_file, delimiter=',')\n",
    "      for row in csv_reader:\n",
    "        img2label[row[0]] = '_'.join(row[1].split(' '))\n",
    "  return img2label\n",
    "\n",
    "def load_data(data_path, labels_path):\n",
    "    images = []\n",
    "    labels = []\n",
    "    img2label = load_labels(labels_path)\n",
    "    for folder in os.listdir(data_path):\n",
    "        full_dir = os.path.join(data_path, folder)\n",
    "        for filename in os.listdir(full_dir):\n",
    "            img = Image.open(os.path.join(full_dir,filename)).convert('RGB')\n",
    "            if img is not None:\n",
    "                images.append(img)\n",
    "                labels.append(img2label[folder])\n",
    "    return images, labels\n",
    "\n",
    "data_path = \"imagenet_1k/\"\n",
    "labels_path = os.path.join(data_path, 'labels.txt')\n",
    "traindir = os.path.join(data_path, 'train')\n",
    "valdir = os.path.join(data_path, 'val')\n",
    "train_data, train_labels = load_data(traindir, labels_path)\n",
    "test_data, test_labels = load_data(valdir, labels_path)\n"
   ]
  },
  {
   "cell_type": "markdown",
   "metadata": {
    "id": "91-CdAzOlgub"
   },
   "source": [
    "Normalize and transform our data to tensor\n",
    "\n",
    "\n",
    "\n",
    "\n"
   ]
  },
  {
   "cell_type": "code",
   "execution_count": 43,
   "metadata": {
    "id": "vss98j6EWZVN"
   },
   "outputs": [],
   "source": [
    "\n",
    "from torchvision import transforms\n",
    "\n",
    "def transform_data(data):\n",
    "  for index, img in enumerate(data):\n",
    "      preprocess = transforms.Compose([\n",
    "      transforms.Resize(256),\n",
    "      transforms.CenterCrop(224),\n",
    "      transforms.ToTensor(),\n",
    "      transforms.Normalize(mean=[0.485, 0.456, 0.406], std=[0.229, 0.224, 0.225]),\n",
    "      ])\n",
    "      input_tensor = preprocess(img)\n",
    "      input_batch = input_tensor.unsqueeze(0)\n",
    "      data[index] = input_batch\n",
    "  return data"
   ]
  },
  {
   "cell_type": "code",
   "execution_count": 44,
   "metadata": {
    "id": "jHB-PSVKMPTP"
   },
   "outputs": [],
   "source": [
    "test_data = transform_data(test_data)\n",
    "train_data = transform_data(train_data)"
   ]
  },
  {
   "cell_type": "markdown",
   "metadata": {
    "id": "f5AGF1cAbNIz"
   },
   "source": [
    "Load a map of images indexes to their corresponding labels."
   ]
  },
  {
   "cell_type": "code",
   "execution_count": 45,
   "metadata": {
    "id": "KobQKGj9L5dl"
   },
   "outputs": [],
   "source": [
    "import urllib\n",
    "import json \n",
    "\n",
    "url, filename = (\"https://s3.amazonaws.com/deep-learning-models/image-models/imagenet_class_index.json\", \"labels.txt\")\n",
    "try: urllib.URLopener().retrieve(url, filename)\n",
    "except: urllib.request.urlretrieve(url, filename)\n",
    "\n",
    "class_idx = json.load(open(filename))\n",
    "idx2label = [class_idx[str(k)][1] for k in range(len(class_idx))]"
   ]
  },
  {
   "cell_type": "markdown",
   "metadata": {
    "id": "0JCyf0WkmDlw"
   },
   "source": [
    "Define a helper funtion to evaluate a model."
   ]
  },
  {
   "cell_type": "code",
   "execution_count": 46,
   "metadata": {
    "id": "pC_Wiw59FWKN"
   },
   "outputs": [],
   "source": [
    "import time\n",
    "def evaluate(model, data, target):\n",
    "  model.eval()\n",
    "  total_time, correct = 0, 0\n",
    "  with torch.no_grad():\n",
    "    for img, target in zip(data, target):\n",
    "      start = time.time()\n",
    "      output = model(img)\n",
    "      end = time.time()\n",
    "      delta = end - start\n",
    "      total_time += delta\n",
    "      pred_idx = int(output[0].sort()[1][-1:])\n",
    "      pred = idx2label[pred_idx]\n",
    "      #print(pred, target)\n",
    "      if target == pred:\n",
    "        correct += 1\n",
    "  inference_time = total_time/len(data)\n",
    "  accuracy = (correct/len(data))*100\n",
    "  return inference_time, accuracy"
   ]
  },
  {
   "cell_type": "markdown",
   "metadata": {
    "id": "S--XqKFImI6G"
   },
   "source": [
    "Now let's evaluate the baseline model over the 1k test dataset."
   ]
  },
  {
   "cell_type": "code",
   "execution_count": 47,
   "metadata": {
    "colab": {
     "base_uri": "https://localhost:8080/"
    },
    "id": "pODnUXrAWl8Z",
    "outputId": "04b451e0-c8c4-4a66-e646-01622faa3033"
   },
   "outputs": [
    {
     "name": "stdout",
     "output_type": "stream",
     "text": [
      "Baseline Inference Time:  0.24108687138557433\n",
      "Baseline Accuracy:  78.2 %\n"
     ]
    }
   ],
   "source": [
    "inference_time, accuracy = evaluate(float_model, test_data, test_labels)\n",
    "\n",
    "print(\"Baseline Inference Time: \", inference_time)\n",
    "print(\"Baseline Accuracy: \", accuracy, '%')"
   ]
  },
  {
   "cell_type": "markdown",
   "metadata": {
    "id": "mMw4b8AqmW-L"
   },
   "source": [
    "# Quantize the model\n",
    "\n",
    "Quantization for deep learning is the process of approximating a neural network that uses 32-bit floating-point/continuous numbers by a neural network of low bit width discrete numbers i.e. 8-bit integers. This dramatically reduces both the memory requirement(by factor of 4) and computational cost of using neural networks.\n",
    "\n",
    "We use static quntization to quantize the model. Static quantization quantizes the weights and activations of the model. It requires calibration with a representative dataset to determine optimal quantization parameters for activations. Static Quantization is typically used when both memory bandwidth and compute savings are important. It usally works well with CNNs. "
   ]
  },
  {
   "cell_type": "code",
   "execution_count": 48,
   "metadata": {
    "colab": {
     "base_uri": "https://localhost:8080/"
    },
    "id": "ZjRzp_9LzfCm",
    "outputId": "1e2af59f-2671-4d41-ad03-f9a9639b16d3"
   },
   "outputs": [
    {
     "name": "stderr",
     "output_type": "stream",
     "text": [
      "/usr/local/lib/python3.6/dist-packages/torch/quantization/observer.py:121: UserWarning: Please use quant_min and quant_max to specify the range for observers.                     reduce_range will be deprecated in a future release of PyTorch.\n",
      "  reduce_range will be deprecated in a future release of PyTorch.\"\n"
     ]
    }
   ],
   "source": [
    "# Our initial baseline model which is FP32\n",
    "model_fp32 = float_model\n",
    "model_fp32.eval()\n",
    "\n",
    "# Sets the backend for x86\n",
    "model_fp32.qconfig = torch.quantization.get_default_qconfig('fbgemm')\n",
    "\n",
    "# Prepares the model for the next step i.e. calibration.\n",
    "# Inserts observers in the model that will observe the activation tensors during calibration\n",
    "model_fp32_prepared = torch.quantization.prepare(model_fp32, inplace = False)\n",
    "\n",
    "# Calibrate over the train dataset. This determines the quantization params for activation.\n",
    "# I used 1000 images of Imagenet train dataset for calibration.\n",
    "evaluate(model_fp32_prepared, train_data, train_labels)\n",
    "\n",
    "# Converts the model to a quantized model(int8) \n",
    "model_quantized = torch.quantization.convert(model_fp32_prepared) # Quantize the model"
   ]
  },
  {
   "cell_type": "markdown",
   "metadata": {
    "id": "q-wQ42E-mmFf"
   },
   "source": [
    "Evaluate the quantized model over the test dataset."
   ]
  },
  {
   "cell_type": "code",
   "execution_count": 49,
   "metadata": {
    "colab": {
     "base_uri": "https://localhost:8080/"
    },
    "id": "sGno95wfG_e_",
    "outputId": "c2e57e60-a5f2-40c7-aaa0-b68afbb745c9"
   },
   "outputs": [
    {
     "name": "stdout",
     "output_type": "stream",
     "text": [
      "Baseline Inference Time:  0.12533321738243103\n",
      "Baseline Accuracy:  77.9 %\n"
     ]
    }
   ],
   "source": [
    "# Evaluates the quantized model on the test dataset\n",
    "inference_time, accuracy = evaluate(model_quantized, test_data, test_labels)\n",
    "\n",
    "print(\"Baseline Inference Time: \", inference_time)\n",
    "print(\"Baseline Accuracy: \", accuracy, '%')"
   ]
  },
  {
   "cell_type": "markdown",
   "metadata": {
    "id": "Dgozb27Ld4ID"
   },
   "source": [
    "**As we can see with quantization we achieve 2X better inference time, while accuracy only drops 0.3%**.\n",
    "\n",
    ">Method | Accuracy | Avg. Inference time \n",
    ">--- | --- | ---\n",
    ">Baseline | 78.2% | 0.241\n",
    ">Static Quantization| 77.9% | 0.125\n"
   ]
  }
 ],
 "metadata": {
  "colab": {
   "collapsed_sections": [],
   "name": "resnet50_quantization.ipynb",
   "provenance": []
  },
  "kernelspec": {
   "display_name": "Python 3",
   "language": "python",
   "name": "python3"
  },
  "language_info": {
   "codemirror_mode": {
    "name": "ipython",
    "version": 3
   },
   "file_extension": ".py",
   "mimetype": "text/x-python",
   "name": "python",
   "nbconvert_exporter": "python",
   "pygments_lexer": "ipython3",
   "version": "3.7.3"
  }
 },
 "nbformat": 4,
 "nbformat_minor": 1
}
